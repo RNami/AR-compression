{
 "cells": [
  {
   "cell_type": "code",
   "execution_count": 9,
   "metadata": {
    "metadata": {}
   },
   "outputs": [
    {
     "name": "stdout",
     "output_type": "stream",
     "text": [
      "CPU times: total: 0 ns\n",
      "Wall time: 0 ns\n"
     ]
    }
   ],
   "source": [
    "%%time\n",
    "\n",
    "import numpy as np\n",
    "import os\n",
    "import matplotlib.pyplot as plt\n",
    "\n",
    "import reconstruction\n",
    "\n",
    "import keras\n",
    "\n",
    "from sklearn.metrics import mean_squared_error\n",
    "from skimage.metrics import structural_similarity\n",
    "from skimage.measure.entropy import shannon_entropy"
   ]
  },
  {
   "cell_type": "code",
   "execution_count": 10,
   "metadata": {
    "metadata": {}
   },
   "outputs": [],
   "source": [
    "def createNeighborhoodVector (pic: np.ndarray, coordinates: tuple) -> list:\n",
    "    m, n = coordinates[0], coordinates [1]\n",
    "    return           [pic [m, n-1], \n",
    "                      pic [m-1, n-1],\n",
    "                      pic [m-1, n],\n",
    "                      pic [m-1, n+1]]\n",
    "\n",
    "def convertPicInt8ToFloat32 (pic: np.ndarray) -> np.ndarray:\n",
    "    return np.array (pic, dtype='float32')\n",
    "\n",
    "def normalizePic (pic: np.ndarray) -> np.ndarray:\n",
    "    return pic / 255.0;\n",
    "\n",
    "def createArrayofNeighborhoodVectors (pic: np.ndarray) -> np.ndarray:\n",
    "    temp = []\n",
    "\n",
    "    for i in range (pic[1:, 1:-1].shape [0]):\n",
    "        for j in range (pic[1:, 1:-1].shape [1]):\n",
    "            temp.append (createNeighborhoodVector (pic, (i, j)))\n",
    "\n",
    "    neighborhood_vectors_array = np.array (temp, dtype='float32')\n",
    "\n",
    "    return neighborhood_vectors_array\n"
   ]
  },
  {
   "cell_type": "code",
   "execution_count": 11,
   "metadata": {
    "metadata": {}
   },
   "outputs": [],
   "source": [
    "model = keras.models.load_model ('saved_prediction_model.keras')"
   ]
  },
  {
   "cell_type": "code",
   "execution_count": 12,
   "metadata": {
    "metadata": {}
   },
   "outputs": [
    {
     "data": {
      "text/plain": [
       "'[0.29421388 0.15952316 0.29602125 0.25434889]'"
      ]
     },
     "execution_count": 12,
     "metadata": {},
     "output_type": "execute_result"
    }
   ],
   "source": [
    "df = reconstruction.convertExcel2Dataframe ('ACoefs.xlsx')\n",
    "\n",
    "df.aCoefs_optimized [2]"
   ]
  },
  {
   "cell_type": "code",
   "execution_count": null,
   "metadata": {
    "metadata": {}
   },
   "outputs": [
    {
     "name": "stdout",
     "output_type": "stream",
     "text": [
      "Epoch 1/10\n",
      "\u001b[1m8145/8145\u001b[0m \u001b[32m━━━━━━━━━━━━━━━━━━━━\u001b[0m\u001b[37m\u001b[0m \u001b[1m14s\u001b[0m 2ms/step - loss: 0.0165\n",
      "Epoch 2/10\n",
      "\u001b[1m8145/8145\u001b[0m \u001b[32m━━━━━━━━━━━━━━━━━━━━\u001b[0m\u001b[37m\u001b[0m \u001b[1m20s\u001b[0m 2ms/step - loss: 0.0105\n",
      "Epoch 3/10\n",
      "\u001b[1m8145/8145\u001b[0m \u001b[32m━━━━━━━━━━━━━━━━━━━━\u001b[0m\u001b[37m\u001b[0m \u001b[1m23s\u001b[0m 3ms/step - loss: 0.0104\n",
      "Epoch 4/10\n",
      "\u001b[1m8145/8145\u001b[0m \u001b[32m━━━━━━━━━━━━━━━━━━━━\u001b[0m\u001b[37m\u001b[0m \u001b[1m16s\u001b[0m 2ms/step - loss: 0.0104\n",
      "Epoch 5/10\n",
      "\u001b[1m3401/8145\u001b[0m \u001b[32m━━━━━━━━\u001b[0m\u001b[37m━━━━━━━━━━━━\u001b[0m \u001b[1m8s\u001b[0m 2ms/step - loss: 0.0105"
     ]
    }
   ],
   "source": [
    "%%time\n",
    "\n",
    "pic_path = 'test_pics/Downloaded Persian Miniatures - Cropped and Resized' + '/'\n",
    "\n",
    "for i, pic_name in enumerate(os.listdir (pic_path)):\n",
    "    pic = reconstruction.createPicArrayFromPath (pic_path + pic_name, '')\n",
    "\n",
    "    y_values = np.array (pic[1:, 1:-1].ravel (), dtype='float32') / 255.0\n",
    "    neighborhood_vectors_array = createArrayofNeighborhoodVectors (pic) / 255.0\n",
    "\n",
    "\n",
    "    model = keras.models.Sequential ()\n",
    "    model.add (keras.layers.Input ((4,)))\n",
    "    model.add (keras.layers.Dense (6, activation='tanh'))\n",
    "    model.add (keras.layers.Dense (3, activation='tanh'))\n",
    "    model.add (keras.layers.Dense (1, activation='sigmoid'))\n",
    "\n",
    "    model.compile (optimizer='adam', loss = 'mean_squared_error')\n",
    "\n",
    "    model.fit (neighborhood_vectors_array, y_values, epochs = 10)\n",
    "\n",
    "\n",
    "    prediction = model.predict (neighborhood_vectors_array)\n",
    "\n",
    "    reconstructed = (prediction * 255.0).reshape (pic [1:, 1:-1].shape)\n",
    "\n",
    "    diff_matrix = reconstruction.createDiffMatrixFromMatrices (pic [1:, 1:-1], reconstructed)\n",
    "\n",
    "    mse_score = mean_squared_error (pic [1:, 1:-1], reconstructed)\n",
    "    ssim_score = structural_similarity (pic [1:, 1:-1], np.array (reconstructed, dtype='uint8'))\n",
    "    entropy_score = shannon_entropy (diff_matrix)\n",
    "\n",
    "    linear_reconstructed = reconstruction.reconstructPicfromACoefs (reconstruction.acoef_str2array (df.aCoefs_optimized [i]), pic)\n",
    "\n",
    "    linear_mse_score = mean_squared_error (pic, linear_reconstructed)\n",
    "    linear_ssim_score = structural_similarity (pic , np.array (linear_reconstructed, dtype='uint8'))\n",
    "    linear_entropy_score = shannon_entropy (reconstruction.createDiffMatrixFromMatrices (pic, linear_reconstructed))\n",
    "\n",
    "\n",
    "    plt.figure (figsize=(20,15))\n",
    "\n",
    "    plt.subplot (1,3,1)\n",
    "    plt.imshow (linear_reconstructed, cmap='gray')\n",
    "    plt.title ('Linear Prediction')\n",
    "    plt.text (0, 600, 'MSE Score: {}\\nSSIM Score: {}\\nEntropy Score: {}'.format(linear_mse_score, linear_ssim_score, linear_entropy_score))\n",
    "\n",
    "    plt.subplot (1,3,2)\n",
    "    plt.imshow (np.array (reconstructed, dtype='uint8'), cmap='gray')\n",
    "    plt.title ('MLP Prediction')\n",
    "    plt.text (0, 600, 'MSE Score: {}\\nSSIM Score: {}\\nEntropy Score: {}'.format(mse_score, ssim_score, entropy_score))\n",
    "\n",
    "    plt.subplot (1,3,3)\n",
    "    plt.imshow (pic [1:,1:-1], cmap='gray')\n",
    "    plt.title ('Original Picture')\n",
    "\n",
    "    plt.savefig ('report/' + pic_name)\n",
    "    plt.close ()\n"
   ]
  },
  {
   "cell_type": "code",
   "execution_count": null,
   "metadata": {
    "metadata": {}
   },
   "outputs": [
    {
     "name": "stdout",
     "output_type": "stream",
     "text": [
      "0 103-La alusion, Miniatura de Ostad Hosein Behzad, Museo Behzad, 1964.jpg\n",
      "1 105-Ferdowsi; Construi un alto castillo de versos Miniatura de Ostad Hosein Behzad.jpg\n",
      "2 109-El alfarero de la existencia, Miniatura de Ostad Hosein Behzad.jpg\n",
      "3 115Poema de Hafiz Sirveme una copa que traen las huries del Paraiso, Miniatura de Ostad Hosein Behzad.jpg\n",
      "4 116-Khayam, Miniatura de Ostad Hosein Behzad.jpg\n",
      "5 119Khayam, Miniatura de Ostad Hosein Behzad.jpg\n",
      "6 121-Rudaki, Miniatura de Ostad Hosein Behzad.jpg\n",
      "7 122-Los que dominan el conocimiento y las artes, Miniatura de Ostad Hosein Behzad.jpg\n",
      "8 126-La creacion de Dios, Miniatura de Ostad Hosein Behzad.jpg\n",
      "9 127-Rostam y Sohrab, Miniatura de Ostad Hosein Behzad.jpg\n",
      "10 138-Ay, la juventud ha llegado a su fin, Miniatura de Ostad Hosein Behzad.jpg\n",
      "11 141-Shams Tabrizi, Miniatura de Ostad Hosein Behzad.jpg\n",
      "12 142-Rudaki, Miniatura de Ostad Hosein Behzad.jpg\n",
      "13 144-el_nacimiento_de_jesus_miniatura_de_ostad_hosein_behzad.jpg\n",
      "14 149-sheij_attar_miniatura_de_ostad_hosein_behzad.jpg\n",
      "15 158-en_la_madrugada_el_gallo_anuncio_la_manana_miniatura_de_ostad_hosein_behzad.jpg\n",
      "16 159-ormavi_miniatura_de_ostad_hosein_behzad.jpg\n",
      "17 160-ya_que_tienes_una_copa_de_vino_miniatura_de_ostad_hosein_behzad.jpg\n",
      "18 168-el_exorcista_miniatura_de_ostad_hosein_behzad.jpg\n",
      "19 170-el_sonido_de_la_flauta_miniatura_de_ostad_hosein_behzad.jpg\n",
      "20 173-escuchar_con_el_oido_del_corazon_miniatura_de_ostad_hosein_behzad.jpg\n",
      "21 179-esta_es_una_copa_que_rompe_el_creador_del_intelecto_sin_datos_miniatura_de_ostad_hosein_behzad.jpg\n",
      "22 180-el_sueno_de_jayam_miniatura_de_ostad_hosein_behzad.jpg\n",
      "23 195-pobreza_y_hambruna_miniatura_de_ostad_hosein_behzad.jpg\n",
      "24 198-el_caballo_enloquecido_miniatura_de_ostad_hosein_behzad.jpg\n",
      "25 207-chirin_y_farhad_miniatura_de_ostad_hosein_behzad.jpg\n",
      "26 71-Juego de polo, Miniatura de Ostad Hosein Behzad -71.jpg\n",
      "27 73-2-Farhad y Chirin (3), Miniatura de Ostad Hosein Behzad -73-2.jpg\n",
      "28 91-Khosrow Anouchiravan y el visir, Miniatura de Ostad Hosein Behzad -91.jpg\n",
      "29 95-El copero, Miniatura de Ostad Hosein Behzad -95.jpg\n",
      "30 Abraham el iconoclasta, 2003, Obras maestras de la miniatura persa; por Profesor Mahmud Farshchian, Irn.jpg\n",
      "31 Alabando al Seor, 2010, Obras maestras de la miniatura persa; por Profesor Mahmud Farshchian, Irn.jpg\n",
      "32 Cul es el precio de la libertad.1980 Obras maestras de la miniatura persa; Artista Profesor Mahmud Farshchian, Irn.jpg\n",
      "33 Del polvo al polvo (Detalle) 1999 Obras maestras de la miniatura persa; Artista Profesor Mahmud Farshchian, Irn.jpg\n",
      "34 Dependencia (detalle) 2011 Obras maestras de la miniatura persa; Artista Profesor Mahmud Farshchian, Irn.jpg\n",
      "35 Dos_palomas_-_miniatura_del_libro_Muraqqa-e_Golshan_-_1605_y_1628_dC._2.jpg\n",
      "36 El aroma en la camisa de los amados profetas Jacob y Jos (detalle),Obras maestras de la miniatura persa; M. Farshchian, Irn.jpg\n",
      "37 El guardin de la Verdad. 2010  Obras maestras de la miniatura persa; Artista Profesor Mahmud Farshchian, Irn.jpg\n",
      "38 El manipulador. 1988.  Obras maestras de la miniatura persa; Artista Profesor Mahmud Farshchian, Irn.jpg\n",
      "39 El poeta Obras maestras de la miniatura persa; Artista Profesor Mahmud Farshchian, Irn.jpg\n",
      "40 El ser de la libertad 2004 Obras maestras de la miniatura persa por Profesor Mahmud Farshchian Iran.jpg\n",
      "41 El Simurg Obras maestras de la miniatura persa Artista Profesor Mahmud Farshchian 2.jpg\n",
      "42 El Simurg Obras maestras de la miniatura persa Artista Profesor Mahmud Farshchian.jpg\n",
      "43 Elogio a la luz 2004 Obras maestras de la miniatura persa por Profesor Mahmud Farshchian Iran.jpg\n",
      "44 El_pjaro-_miniatura_hecha_en_la_primer_mitad_del_siglo_XVII_dC._2.jpg\n",
      "45 En la madrugada 1989 Obras maestras de la miniatura persa M. Farshchian Iran.jpg\n",
      "46 En la trampa.( detalle) 1998 Obras maestras de la miniatura persa; Artista Profesor Mahmud Farshchian, Irn.jpg\n",
      "47 Excursin_en_la_naturaleza-_miniatura_del_libro_Muraqqa-e_Golshan_-_1605_y_1628_dC._2.jpg\n",
      "48 Gloria de la naturaleza. 1983 Obras maestras de la miniatura persa; Artista Profesor Mahmud Farshchian, Irn.jpg\n",
      "49 La caravana de la vida 1990 Obras maestras de la miniatura persa Artista Profesor Mahmud Farshchian Iran.jpg\n",
      "50 La espada rota, Obras maestras de la miniatura persa; M. Farshchian, Irn.jpg\n",
      "51 La iluminacion 1994 Obras maestras de la miniatura persa M. Farshchian Iran.jpg\n",
      "52 La prueba ms dura. El profeta Abraham, 2006, Obras maestras de la miniatura persa; por Profesor Mahmud Farshchian, Irn.jpg\n",
      "53 Lgrimas doradas - Obras maestras de la miniatura persa Artista Profesor Mahmud Farshchian Iran.jpg\n",
      "54 Manantiales de fascinacin.( detalle )1984 , Obras maestras de la miniatura persa; Artista Profesor Mahmud Farshchian, Irn.jpg\n",
      "55 Mensajeros de la divinidad.1962 , Obras maestras de la miniatura persa; Artista Profesor Mahmud Farshchian, Irn.jpg\n",
      "56 Miniatura_en_mural_de_Chehel_Sotun_(palacio_de_las_Cuarenta_Pilares)_de_Isfahn,_Irn_-3_1.jpg\n",
      "57 Miniatura_en_mural_de_Chehel_Sotun_(palacio_de_las_Cuarenta_Pilares)_de_Isfahn,_Irn_-_11_1.jpg\n",
      "58 Miniatura_en_mural_persa_de_Chehel_Sotun_(palacio_de_los_Cuarenta_Pilares)_de_Isfahn,_Irn_-_28_0.jpg\n",
      "59 Miniatura_persa,_Batalla_entre_Rostam_y_Dragn.jpg\n",
      "60 Miniatura_persa,_del_libro_Khamse_o_Panj_Ganj_-Cinco_Tesoro-,_del_poeta_Nezami_Ganjavi_(1141_a_1209)-1_0_2.jpg\n",
      "61 Miniatura_persa,_Estrofa_(Gua_espiritual,_rodeado_por_sus_discpulos)_5.jpg\n",
      "62 Miniatura_persa,_Ghoghnus_(fnix)_0.jpg\n",
      "63 Miniatura_persa,_Shirin_y_Farhad_0.jpg\n",
      "64 Miniatura_persa-_hecho_en_el_siglo_16_dC._del_libro_Khamse_o_Panj_Ganj_-Cinco_Tesoro-,_del_poeta_Nezami_Ganjavi_0.jpg\n",
      "65 Miniatura_persa_-_Batalla_entre_camello_y_len_5.jpg\n",
      "66 Miniatura_persa_-_tomado_del_libro_Maznawi_Yamshid_wa_Jorshid_-_del_Poeta_persa_Salman_Sawoyi_(siglo_XVI)_0.jpg\n",
      "67 Miniatura_persa__Los_herederos_del_Reino_de_Dios_III_5.jpg\n",
      "68 Mirada-_Pintura_Persa-_Farshchian_1.jpg\n",
      "69 Ni usted ni yo sabemos los secretos de la eternidad, 1962, Obras maestras de la miniatura persa; por Profesor Mahmud Farshchian, Irn.jpg\n",
      "70 Obras_maestras_de_la_Miniatura_Persa,_tomado_del_libro_Khamse_o_Panj_Ganj_del_poeta_Nezami_Ganjavi_-1_3.jpg\n",
      "71 Obras_maestras_de_la_miniatura_Persa-_hecho_en_el_siglo_16_dC._tomado_de_libro_Habib_us-Siar_I,_de_la_historia_general_del_mundo_2.jpg\n",
      "72 Obras_Maestras_de_la_Miniatura_Persa_-_15_1.jpg\n",
      "73 Obras_Maestras_de_la_Miniatura_Persa_-_8_3.jpg\n",
      "74 Oh guiadora de estrellas, 1989, Obras maestras de la miniatura persa; por Profesor Mahmud Farshchian, Irn.jpg\n",
      "75 Olor secreto. 1978 , Obras maestras de la miniatura persa; Artista Profesor Mahmud Farshchian, Irn.jpg\n",
      "76 Petalos - 1999 - Obras maestras de la miniatura persa Artista Profesor Mahmud Farshchian Iran.jpg\n",
      "77 Primavera alegre, 2004, Obras maestras de la miniatura persa; M. Farshchian, Irn.jpg\n",
      "78 Races mutables.1998 , Obras maestras de la miniatura persa; Artista Profesor Mahmud Farshchian, Irn.jpg\n",
      "79 Recordar la juventud 1988 Obras maestras de la miniatura persa Artista Profesor Mahmud Farshchian Iran.jpg\n",
      "80 Respiro, 1988, Obras maestras de la miniatura persa; M. Farshchian, Irn.jpg\n",
      "81 Rum (Molavi) y Shams Tabrizi, (detalle) 2007, Obras maestras de la miniatura persa; por Profesor Mahmud Farshchian, Irn.jpg\n",
      "82 Rum (Molavi) y Shams Tabrizi, 2007, Obras maestras de la miniatura persa; por Profesor Mahmud Farshchian, Irn.jpg\n",
      "83 Santuario de los seores.1994 Obras maestras de la miniatura persa; Artista Profesor Mahmud Farshchian, Irn.jpg\n",
      "84 Sin ttulo  Obras maestras de la miniatura persa; Artista Profesor Mahmud Farshchian, Irn -73.jpg\n",
      "85 Sin ttulo (2), Obras maestras de la miniatura persa; por Profesor Mahmud Farshchian, Irn.jpg\n",
      "86 Sonidos_de_la_Creacin-_Pintura_Persa-_Farshchian_1.jpg\n",
      "87 Sublimacin (detalle 1), 2006, Obras maestras de la miniatura persa; M. Farshchian, Irn.jpg\n",
      "88 Sublimacin (detalle 2), 2006, Obras maestras de la miniatura persa; M. Farshchian, Irn.jpg\n",
      "89 Sufrimiento dichoso, 2004, Obras maestras de la miniatura persa; por Profesor Mahmud Farshchian, Irn.jpg\n"
     ]
    }
   ],
   "source": [
    "pic_path = 'test_pics/Downloaded Persian Miniatures - Cropped and Resized' + '/'\n",
    "\n",
    "\n",
    "for i, pic_name in enumerate(os.listdir (pic_path)):\n",
    "    print (i, pic_name)"
   ]
  },
  {
   "cell_type": "code",
   "execution_count": null,
   "metadata": {},
   "outputs": [],
   "source": []
  }
 ],
 "metadata": {
  "kernelspec": {
   "display_name": "Python 3 (ipykernel)",
   "language": "python",
   "name": "python3"
  },
  "language_info": {
   "codemirror_mode": {
    "name": "ipython",
    "version": 3
   },
   "file_extension": ".py",
   "mimetype": "text/x-python",
   "name": "python",
   "nbconvert_exporter": "python",
   "pygments_lexer": "ipython3",
   "version": "3.11.3"
  }
 },
 "nbformat": 4,
 "nbformat_minor": 2
}
